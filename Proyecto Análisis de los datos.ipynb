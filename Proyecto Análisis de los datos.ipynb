{
 "cells": [
  {
   "cell_type": "markdown",
   "id": "fb99d1f9-8291-4840-a6f2-1ad1e2faf99f",
   "metadata": {},
   "source": []
  },
  {
   "cell_type": "code",
   "execution_count": 76,
   "id": "71fb5e37-d542-4f6e-a7e9-8676e1b3742c",
   "metadata": {},
   "outputs": [
    {
     "name": "stdout",
     "output_type": "stream",
     "text": [
      "Requirement already satisfied: yfinance in d:\\anaconda\\lib\\site-packages (0.2.54)\n",
      "Requirement already satisfied: pandas>=1.3.0 in d:\\anaconda\\lib\\site-packages (from yfinance) (2.2.2)\n",
      "Requirement already satisfied: numpy>=1.16.5 in d:\\anaconda\\lib\\site-packages (from yfinance) (1.26.4)\n",
      "Requirement already satisfied: requests>=2.31 in d:\\anaconda\\lib\\site-packages (from yfinance) (2.32.3)\n",
      "Requirement already satisfied: multitasking>=0.0.7 in d:\\anaconda\\lib\\site-packages (from yfinance) (0.0.11)\n",
      "Requirement already satisfied: platformdirs>=2.0.0 in d:\\anaconda\\lib\\site-packages (from yfinance) (3.10.0)\n",
      "Requirement already satisfied: pytz>=2022.5 in d:\\anaconda\\lib\\site-packages (from yfinance) (2024.1)\n",
      "Requirement already satisfied: frozendict>=2.3.4 in d:\\anaconda\\lib\\site-packages (from yfinance) (2.4.2)\n",
      "Requirement already satisfied: peewee>=3.16.2 in d:\\anaconda\\lib\\site-packages (from yfinance) (3.17.9)\n",
      "Requirement already satisfied: beautifulsoup4>=4.11.1 in d:\\anaconda\\lib\\site-packages (from yfinance) (4.12.3)\n",
      "Requirement already satisfied: soupsieve>1.2 in d:\\anaconda\\lib\\site-packages (from beautifulsoup4>=4.11.1->yfinance) (2.5)\n",
      "Requirement already satisfied: python-dateutil>=2.8.2 in d:\\anaconda\\lib\\site-packages (from pandas>=1.3.0->yfinance) (2.9.0.post0)\n",
      "Requirement already satisfied: tzdata>=2022.7 in d:\\anaconda\\lib\\site-packages (from pandas>=1.3.0->yfinance) (2023.3)\n",
      "Requirement already satisfied: charset-normalizer<4,>=2 in d:\\anaconda\\lib\\site-packages (from requests>=2.31->yfinance) (3.3.2)\n",
      "Requirement already satisfied: idna<4,>=2.5 in d:\\anaconda\\lib\\site-packages (from requests>=2.31->yfinance) (3.7)\n",
      "Requirement already satisfied: urllib3<3,>=1.21.1 in d:\\anaconda\\lib\\site-packages (from requests>=2.31->yfinance) (2.2.3)\n",
      "Requirement already satisfied: certifi>=2017.4.17 in d:\\anaconda\\lib\\site-packages (from requests>=2.31->yfinance) (2025.1.31)\n",
      "Requirement already satisfied: six>=1.5 in d:\\anaconda\\lib\\site-packages (from python-dateutil>=2.8.2->pandas>=1.3.0->yfinance) (1.16.0)\n",
      "Note: you may need to restart the kernel to use updated packages.\n"
     ]
    }
   ],
   "source": [
    "pip install yfinance"
   ]
  },
  {
   "cell_type": "markdown",
   "id": "1d98132b-354e-4e0b-941f-9b94fdb5dccf",
   "metadata": {},
   "source": [
    "Pregunta 1: Utilice yfinance para extraer datos bursátiles\n",
    "\n",
    "Restablezca el índice, guarde y visualice las cinco primeras filas del marco de datos tesla_data utilizando la función head. Suba una captura de pantalla de los resultados y el código del principio de la Pregunta 1 a los resultados de abajo."
   ]
  },
  {
   "cell_type": "code",
   "execution_count": 78,
   "id": "823fc1ae-a174-4eb7-b3b1-0b1453008bae",
   "metadata": {},
   "outputs": [],
   "source": [
    "import yfinance as yf"
   ]
  },
  {
   "cell_type": "code",
   "execution_count": 79,
   "id": "fe1d38a9-11f8-475e-9e81-7a94f110bede",
   "metadata": {},
   "outputs": [],
   "source": [
    "tesla = yf.Ticker(\"TSLA\")"
   ]
  },
  {
   "cell_type": "code",
   "execution_count": 80,
   "id": "4697553d-eaa0-4c06-bfd4-52b92d2f3938",
   "metadata": {},
   "outputs": [],
   "source": [
    "tesla_data = tesla.history(period=\"max\")"
   ]
  },
  {
   "cell_type": "code",
   "execution_count": 81,
   "id": "871f61d8-5b91-4d96-9f73-34a286c4a16c",
   "metadata": {},
   "outputs": [],
   "source": [
    "tesla_data.reset_index(inplace=True)"
   ]
  },
  {
   "cell_type": "code",
   "execution_count": 82,
   "id": "e304f9a5-ac65-4919-a250-1078f04cd021",
   "metadata": {},
   "outputs": [
    {
     "name": "stdout",
     "output_type": "stream",
     "text": [
      "                       Date      Open      High       Low     Close  \\\n",
      "0 2010-06-29 00:00:00-04:00  1.266667  1.666667  1.169333  1.592667   \n",
      "1 2010-06-30 00:00:00-04:00  1.719333  2.028000  1.553333  1.588667   \n",
      "2 2010-07-01 00:00:00-04:00  1.666667  1.728000  1.351333  1.464000   \n",
      "3 2010-07-02 00:00:00-04:00  1.533333  1.540000  1.247333  1.280000   \n",
      "4 2010-07-06 00:00:00-04:00  1.333333  1.333333  1.055333  1.074000   \n",
      "\n",
      "      Volume  Dividends  Stock Splits  \n",
      "0  281494500        0.0           0.0  \n",
      "1  257806500        0.0           0.0  \n",
      "2  123282000        0.0           0.0  \n",
      "3   77097000        0.0           0.0  \n",
      "4  103003500        0.0           0.0  \n"
     ]
    }
   ],
   "source": [
    "print(tesla_data.head())"
   ]
  },
  {
   "cell_type": "markdown",
   "id": "f0f76f79-ca3f-41e9-a492-a8b1ed57dccb",
   "metadata": {},
   "source": [
    "Pregunta 2: Utilizar Webscraping para extraer datos de ingresos de Tesla\n",
    "\n",
    "Muestre las cinco últimas filas del marco de datos tesla_revenue utilizando la función tail. Suba una captura de pantalla de los resultados."
   ]
  },
  {
   "cell_type": "code",
   "execution_count": 84,
   "id": "87a66a99-4143-4eb8-b294-c3ca8817c61a",
   "metadata": {},
   "outputs": [],
   "source": [
    "import requests\n",
    "import pandas as pd\n",
    "from bs4 import BeautifulSoup"
   ]
  },
  {
   "cell_type": "code",
   "execution_count": 85,
   "id": "62a3378b-037d-42c2-8ecf-c8ab67050014",
   "metadata": {},
   "outputs": [],
   "source": [
    "url = \"https://www.macrotrends.net/stocks/charts/TSLA/tesla/revenue\""
   ]
  },
  {
   "cell_type": "code",
   "execution_count": 86,
   "id": "b5169cd4-152f-449e-beaa-eaa6cb468d23",
   "metadata": {},
   "outputs": [],
   "source": [
    "headers = {\"User-Agent\": \"Mozilla/5.0 (Windows NT 10.0; Win64; x64) AppleWebKit/537.36 (KHTML, like Gecko) Chrome/91.0.4472.124 Safari/537.36\"}"
   ]
  },
  {
   "cell_type": "code",
   "execution_count": 87,
   "id": "19a3da97-18b6-457f-b5b7-cef927ded5ec",
   "metadata": {},
   "outputs": [],
   "source": [
    "html_data = requests.get(url, headers=headers).text\n",
    "soup = BeautifulSoup(html_data, \"html.parser\")"
   ]
  },
  {
   "cell_type": "code",
   "execution_count": 88,
   "id": "831120bd-8a21-41d9-b2f3-1cd4868adcaa",
   "metadata": {},
   "outputs": [],
   "source": [
    "tables = soup.find_all('table')"
   ]
  },
  {
   "cell_type": "code",
   "execution_count": 89,
   "id": "2db36d2d-b94f-4f75-99fa-7f09e1dd0492",
   "metadata": {},
   "outputs": [
    {
     "name": "stderr",
     "output_type": "stream",
     "text": [
      "C:\\Users\\elpri\\AppData\\Local\\Temp\\ipykernel_5696\\186087170.py:3: FutureWarning: Passing literal html to 'read_html' is deprecated and will be removed in a future version. To read from a literal string, wrap it in a 'StringIO' object.\n",
      "  tesla_revenue = pd.read_html(str(table))[0]\n"
     ]
    }
   ],
   "source": [
    "for table in tables:\n",
    "    if 'Tesla Quarterly Revenue' in table.find('th').text:\n",
    "        tesla_revenue = pd.read_html(str(table))[0]\n",
    "        break"
   ]
  },
  {
   "cell_type": "code",
   "execution_count": 90,
   "id": "774bcf44-7609-4b5b-81cc-c57e29035473",
   "metadata": {},
   "outputs": [
    {
     "name": "stdout",
     "output_type": "stream",
     "text": [
      "Nombres de columnas disponibles: ['Tesla Quarterly Revenue (Millions of US $)', 'Tesla Quarterly Revenue (Millions of US $).1']\n"
     ]
    }
   ],
   "source": [
    "print(\"Nombres de columnas disponibles:\", tesla_revenue.columns.tolist())"
   ]
  },
  {
   "cell_type": "code",
   "execution_count": 91,
   "id": "1dae4f10-4356-4ab3-b612-52ff6ffcf4c3",
   "metadata": {},
   "outputs": [],
   "source": [
    "tesla_revenue = tesla_revenue.rename(columns={tesla_revenue.columns[0]: 'Date', tesla_revenue.columns[1]: 'Revenue'})"
   ]
  },
  {
   "cell_type": "code",
   "execution_count": 92,
   "id": "7a8089da-c66c-4ea3-9f1b-4bf060f6e063",
   "metadata": {},
   "outputs": [
    {
     "name": "stdout",
     "output_type": "stream",
     "text": [
      "Tipo de datos de Revenue antes de limpieza: object\n"
     ]
    }
   ],
   "source": [
    "print(\"Tipo de datos de Revenue antes de limpieza:\", tesla_revenue['Revenue'].dtype)"
   ]
  },
  {
   "cell_type": "code",
   "execution_count": 93,
   "id": "183de832-d357-4a9b-8f88-3d226493b3ec",
   "metadata": {},
   "outputs": [
    {
     "data": {
      "text/html": [
       "<div>\n",
       "<style scoped>\n",
       "    .dataframe tbody tr th:only-of-type {\n",
       "        vertical-align: middle;\n",
       "    }\n",
       "\n",
       "    .dataframe tbody tr th {\n",
       "        vertical-align: top;\n",
       "    }\n",
       "\n",
       "    .dataframe thead th {\n",
       "        text-align: right;\n",
       "    }\n",
       "</style>\n",
       "<table border=\"1\" class=\"dataframe\">\n",
       "  <thead>\n",
       "    <tr style=\"text-align: right;\">\n",
       "      <th></th>\n",
       "      <th>Date</th>\n",
       "      <th>Revenue</th>\n",
       "    </tr>\n",
       "  </thead>\n",
       "  <tbody>\n",
       "    <tr>\n",
       "      <th>57</th>\n",
       "      <td>2010-09-30</td>\n",
       "      <td>31.0</td>\n",
       "    </tr>\n",
       "    <tr>\n",
       "      <th>58</th>\n",
       "      <td>2010-06-30</td>\n",
       "      <td>28.0</td>\n",
       "    </tr>\n",
       "    <tr>\n",
       "      <th>59</th>\n",
       "      <td>2010-03-31</td>\n",
       "      <td>21.0</td>\n",
       "    </tr>\n",
       "    <tr>\n",
       "      <th>61</th>\n",
       "      <td>2009-09-30</td>\n",
       "      <td>46.0</td>\n",
       "    </tr>\n",
       "    <tr>\n",
       "      <th>62</th>\n",
       "      <td>2009-06-30</td>\n",
       "      <td>27.0</td>\n",
       "    </tr>\n",
       "  </tbody>\n",
       "</table>\n",
       "</div>"
      ],
      "text/plain": [
       "          Date  Revenue\n",
       "57  2010-09-30     31.0\n",
       "58  2010-06-30     28.0\n",
       "59  2010-03-31     21.0\n",
       "61  2009-09-30     46.0\n",
       "62  2009-06-30     27.0"
      ]
     },
     "execution_count": 93,
     "metadata": {},
     "output_type": "execute_result"
    }
   ],
   "source": [
    "if tesla_revenue['Revenue'].dtype == 'object':\n",
    "    tesla_revenue[\"Revenue\"] = tesla_revenue[\"Revenue\"].str.replace(',', '').str.replace('$', '')\n",
    "    tesla_revenue[\"Revenue\"] = pd.to_numeric(tesla_revenue[\"Revenue\"], errors='coerce')\n",
    "tesla_revenue.dropna(inplace=True)\n",
    "\n",
    "tesla_revenue.tail()"
   ]
  },
  {
   "cell_type": "markdown",
   "id": "f67dd707-890c-453d-9ab0-2f189edc81f4",
   "metadata": {},
   "source": [
    "Pregunta 3: Utilice yfinance para extraer datos de existencias\n",
    "\n",
    "Restablezca el índice, guarde y muestre las primeras cinco filas del marco de  datos gme_data mediante la  función head. Cargue una captura de pantalla de los resultados y el código desde el comienzo de la pregunta 1 hasta los resultados a continuación."
   ]
  },
  {
   "cell_type": "code",
   "execution_count": 95,
   "id": "3b0acf3e-5bbf-47c3-8046-79b5163e325d",
   "metadata": {},
   "outputs": [],
   "source": [
    "import yfinance as yf"
   ]
  },
  {
   "cell_type": "code",
   "execution_count": 96,
   "id": "33c2e911-27b8-4997-9292-3459f4ed6682",
   "metadata": {},
   "outputs": [],
   "source": [
    "gme = yf.Ticker(\"GME\")"
   ]
  },
  {
   "cell_type": "code",
   "execution_count": 97,
   "id": "6b2d6440-1b00-4568-9885-db4fc81d1159",
   "metadata": {},
   "outputs": [
    {
     "data": {
      "text/html": [
       "<div>\n",
       "<style scoped>\n",
       "    .dataframe tbody tr th:only-of-type {\n",
       "        vertical-align: middle;\n",
       "    }\n",
       "\n",
       "    .dataframe tbody tr th {\n",
       "        vertical-align: top;\n",
       "    }\n",
       "\n",
       "    .dataframe thead th {\n",
       "        text-align: right;\n",
       "    }\n",
       "</style>\n",
       "<table border=\"1\" class=\"dataframe\">\n",
       "  <thead>\n",
       "    <tr style=\"text-align: right;\">\n",
       "      <th></th>\n",
       "      <th>Date</th>\n",
       "      <th>Open</th>\n",
       "      <th>High</th>\n",
       "      <th>Low</th>\n",
       "      <th>Close</th>\n",
       "      <th>Volume</th>\n",
       "      <th>Dividends</th>\n",
       "      <th>Stock Splits</th>\n",
       "    </tr>\n",
       "  </thead>\n",
       "  <tbody>\n",
       "    <tr>\n",
       "      <th>0</th>\n",
       "      <td>2002-02-13 00:00:00-05:00</td>\n",
       "      <td>1.620128</td>\n",
       "      <td>1.693349</td>\n",
       "      <td>1.603295</td>\n",
       "      <td>1.691666</td>\n",
       "      <td>76216000</td>\n",
       "      <td>0.0</td>\n",
       "      <td>0.0</td>\n",
       "    </tr>\n",
       "    <tr>\n",
       "      <th>1</th>\n",
       "      <td>2002-02-14 00:00:00-05:00</td>\n",
       "      <td>1.712707</td>\n",
       "      <td>1.716074</td>\n",
       "      <td>1.670626</td>\n",
       "      <td>1.683250</td>\n",
       "      <td>11021600</td>\n",
       "      <td>0.0</td>\n",
       "      <td>0.0</td>\n",
       "    </tr>\n",
       "    <tr>\n",
       "      <th>2</th>\n",
       "      <td>2002-02-15 00:00:00-05:00</td>\n",
       "      <td>1.683250</td>\n",
       "      <td>1.687458</td>\n",
       "      <td>1.658002</td>\n",
       "      <td>1.674834</td>\n",
       "      <td>8389600</td>\n",
       "      <td>0.0</td>\n",
       "      <td>0.0</td>\n",
       "    </tr>\n",
       "    <tr>\n",
       "      <th>3</th>\n",
       "      <td>2002-02-19 00:00:00-05:00</td>\n",
       "      <td>1.666418</td>\n",
       "      <td>1.666418</td>\n",
       "      <td>1.578047</td>\n",
       "      <td>1.607504</td>\n",
       "      <td>7410400</td>\n",
       "      <td>0.0</td>\n",
       "      <td>0.0</td>\n",
       "    </tr>\n",
       "    <tr>\n",
       "      <th>4</th>\n",
       "      <td>2002-02-20 00:00:00-05:00</td>\n",
       "      <td>1.615920</td>\n",
       "      <td>1.662209</td>\n",
       "      <td>1.603296</td>\n",
       "      <td>1.662209</td>\n",
       "      <td>6892800</td>\n",
       "      <td>0.0</td>\n",
       "      <td>0.0</td>\n",
       "    </tr>\n",
       "  </tbody>\n",
       "</table>\n",
       "</div>"
      ],
      "text/plain": [
       "                       Date      Open      High       Low     Close    Volume  \\\n",
       "0 2002-02-13 00:00:00-05:00  1.620128  1.693349  1.603295  1.691666  76216000   \n",
       "1 2002-02-14 00:00:00-05:00  1.712707  1.716074  1.670626  1.683250  11021600   \n",
       "2 2002-02-15 00:00:00-05:00  1.683250  1.687458  1.658002  1.674834   8389600   \n",
       "3 2002-02-19 00:00:00-05:00  1.666418  1.666418  1.578047  1.607504   7410400   \n",
       "4 2002-02-20 00:00:00-05:00  1.615920  1.662209  1.603296  1.662209   6892800   \n",
       "\n",
       "   Dividends  Stock Splits  \n",
       "0        0.0           0.0  \n",
       "1        0.0           0.0  \n",
       "2        0.0           0.0  \n",
       "3        0.0           0.0  \n",
       "4        0.0           0.0  "
      ]
     },
     "execution_count": 97,
     "metadata": {},
     "output_type": "execute_result"
    }
   ],
   "source": [
    "gme_data = gme.history(period=\"max\")\n",
    "gme_data = gme_data.reset_index()\n",
    "gme_data.head()"
   ]
  },
  {
   "cell_type": "markdown",
   "id": "8838c008-07dd-4ad2-82c8-06b4e3c45928",
   "metadata": {},
   "source": [
    "Pregunta 4: Utilice el webscraping para extraer datos de ingresos de GME\n",
    "\n",
    "Muestre las últimas cinco filas de la trama de  datos gme_revenue utilizando la  función tail. Sube una captura de pantalla de los resultados."
   ]
  },
  {
   "cell_type": "code",
   "execution_count": 99,
   "id": "33bed086-ac1d-4c3a-a4da-ff94abcf035f",
   "metadata": {},
   "outputs": [],
   "source": [
    "url = \"https://www.macrotrends.net/stocks/charts/GME/gamestop/revenue\""
   ]
  },
  {
   "cell_type": "code",
   "execution_count": 121,
   "id": "2a83e4f0-d175-4ac0-92d9-7ba5ec16e31d",
   "metadata": {},
   "outputs": [],
   "source": [
    "html_data = requests.get(url, headers=headers).text\n",
    "soup = BeautifulSoup(html_data, \"html.parser\")"
   ]
  },
  {
   "cell_type": "code",
   "execution_count": 123,
   "id": "767035d1-2a49-475d-b91b-670783275fd2",
   "metadata": {},
   "outputs": [],
   "source": [
    "tables = soup.find_all('table')"
   ]
  },
  {
   "cell_type": "code",
   "execution_count": 125,
   "id": "1eb11d2a-00ca-43ab-9b1a-00a9120b18a4",
   "metadata": {},
   "outputs": [
    {
     "name": "stderr",
     "output_type": "stream",
     "text": [
      "C:\\Users\\elpri\\AppData\\Local\\Temp\\ipykernel_5696\\1096964336.py:3: FutureWarning: Passing literal html to 'read_html' is deprecated and will be removed in a future version. To read from a literal string, wrap it in a 'StringIO' object.\n",
      "  gme_revenue = pd.read_html(str(table))[0]\n"
     ]
    }
   ],
   "source": [
    "for table in tables:\n",
    "    if 'GameStop Quarterly Revenue' in table.find('th').text:\n",
    "        gme_revenue = pd.read_html(str(table))[0]\n",
    "        break"
   ]
  },
  {
   "cell_type": "code",
   "execution_count": 133,
   "id": "46d8aa21-4362-4e7d-a322-7e29ce5e7623",
   "metadata": {},
   "outputs": [
    {
     "name": "stdout",
     "output_type": "stream",
     "text": [
      "Nombres de columnas disponibles: ['GameStop Quarterly Revenue (Millions of US $)', 'GameStop Quarterly Revenue (Millions of US $).1']\n"
     ]
    }
   ],
   "source": [
    "print(\"Nombres de columnas disponibles:\", gme_revenue.columns.tolist())"
   ]
  },
  {
   "cell_type": "code",
   "execution_count": 135,
   "id": "c03376bb-6f16-49a1-a8e3-b0f7608b1166",
   "metadata": {},
   "outputs": [
    {
     "name": "stdout",
     "output_type": "stream",
     "text": [
      "Tipo de datos de Revenue antes de limpieza: object\n"
     ]
    }
   ],
   "source": [
    "gme_revenue = gme_revenue.rename(columns={gme_revenue.columns[0]: 'Date', gme_revenue.columns[1]: 'Revenue'})\n",
    "print(\"Tipo de datos de Revenue antes de limpieza:\", gme_revenue['Revenue'].dtype)\n"
   ]
  },
  {
   "cell_type": "code",
   "execution_count": 139,
   "id": "44d934ce-0b6e-4148-9a11-ea24305ffb34",
   "metadata": {},
   "outputs": [],
   "source": [
    "if gme_revenue['Revenue'].dtype == 'object':\n",
    "    gme_revenue[\"Revenue\"] = gme_revenue[\"Revenue\"].str.replace(',', '').str.replace('$', '')\n",
    "    gme_revenue[\"Revenue\"] = pd.to_numeric(gme_revenue[\"Revenue\"], errors='coerce')"
   ]
  },
  {
   "cell_type": "code",
   "execution_count": 141,
   "id": "25e68770-1627-4ece-9294-4d9901217d56",
   "metadata": {},
   "outputs": [],
   "source": [
    "gme_revenue.dropna(inplace=True)"
   ]
  },
  {
   "cell_type": "code",
   "execution_count": 143,
   "id": "b4f28f72-0f44-492a-b8c1-7704f2c02bc8",
   "metadata": {},
   "outputs": [
    {
     "data": {
      "text/html": [
       "<div>\n",
       "<style scoped>\n",
       "    .dataframe tbody tr th:only-of-type {\n",
       "        vertical-align: middle;\n",
       "    }\n",
       "\n",
       "    .dataframe tbody tr th {\n",
       "        vertical-align: top;\n",
       "    }\n",
       "\n",
       "    .dataframe thead th {\n",
       "        text-align: right;\n",
       "    }\n",
       "</style>\n",
       "<table border=\"1\" class=\"dataframe\">\n",
       "  <thead>\n",
       "    <tr style=\"text-align: right;\">\n",
       "      <th></th>\n",
       "      <th>Date</th>\n",
       "      <th>Revenue</th>\n",
       "    </tr>\n",
       "  </thead>\n",
       "  <tbody>\n",
       "    <tr>\n",
       "      <th>59</th>\n",
       "      <td>2010-01-31</td>\n",
       "      <td>3524</td>\n",
       "    </tr>\n",
       "    <tr>\n",
       "      <th>60</th>\n",
       "      <td>2009-10-31</td>\n",
       "      <td>1835</td>\n",
       "    </tr>\n",
       "    <tr>\n",
       "      <th>61</th>\n",
       "      <td>2009-07-31</td>\n",
       "      <td>1739</td>\n",
       "    </tr>\n",
       "    <tr>\n",
       "      <th>62</th>\n",
       "      <td>2009-04-30</td>\n",
       "      <td>1981</td>\n",
       "    </tr>\n",
       "    <tr>\n",
       "      <th>63</th>\n",
       "      <td>2009-01-31</td>\n",
       "      <td>3492</td>\n",
       "    </tr>\n",
       "  </tbody>\n",
       "</table>\n",
       "</div>"
      ],
      "text/plain": [
       "          Date  Revenue\n",
       "59  2010-01-31     3524\n",
       "60  2009-10-31     1835\n",
       "61  2009-07-31     1739\n",
       "62  2009-04-30     1981\n",
       "63  2009-01-31     3492"
      ]
     },
     "execution_count": 143,
     "metadata": {},
     "output_type": "execute_result"
    }
   ],
   "source": [
    "gme_revenue.tail()"
   ]
  },
  {
   "cell_type": "markdown",
   "id": "84dc47bc-0840-46c7-a91d-97c83ef246e1",
   "metadata": {},
   "source": [
    "Pregunta 5: Trazar el gráfico de acciones de Tesla\n",
    "\n",
    "Utilice la  función make_graph para graficar los datos de acciones de Tesla, también proporcione un título para el gráfico.\n",
    "\n",
    "Sube una captura de pantalla de los resultados."
   ]
  },
  {
   "cell_type": "code",
   "execution_count": 146,
   "id": "e7c7efc4-ca3d-4003-9bc0-3a361ac45c10",
   "metadata": {},
   "outputs": [],
   "source": [
    "import matplotlib.pyplot as plt"
   ]
  },
  {
   "cell_type": "code",
   "execution_count": 150,
   "id": "0ab5e59c-ea04-4599-b92c-e55cb61ea0d1",
   "metadata": {},
   "outputs": [],
   "source": [
    "def make_graph(stock_data, stock_revenue, title):\n",
    "    fig, ax = plt.subplots(figsize=(12, 6))\n",
    "    \n",
    "    ax.plot(stock_data['Date'], stock_data['Close'])\n",
    "    ax.set_title(title, fontsize=16)\n",
    "    ax.set_xlabel('Fecha', fontsize=12)\n",
    "    ax.set_ylabel('Precio de cierre ($)', fontsize=12)\n",
    "    ax.grid(True)\n",
    "    plt.subplots_adjust(left=0.1, right=0.9, top=0.9, bottom=0.1)\n",
    "    plt.show()"
   ]
  },
  {
   "cell_type": "code",
   "execution_count": 152,
   "id": "5fa763c4-1849-483b-9b72-d444e1a221f2",
   "metadata": {},
   "outputs": [
    {
     "data": {
      "image/png": "[encoded data removed]",
      "text/plain": [
       "<Figure size 1200x600 with 1 Axes>"
      ]
     },
     "metadata": {},
     "output_type": "display_data"
    }
   ],
   "source": [
    "make_graph(tesla_data, tesla_revenue, 'Histórico de precios de acciones de Tesla')"
   ]
  },
  {
   "cell_type": "markdown",
   "id": "7878e5ac-688b-4470-bea4-feabf2a221fb",
   "metadata": {},
   "source": [
    "Pregunta 6: Trazar el gráfico de acciones de GameStop\n",
    "\n",
    "Utilice la  función make_graph para graficar los datos de acciones de GameStop, también proporcione un título para el gráfico."
   ]
  },
  {
   "cell_type": "code",
   "execution_count": 154,
   "id": "9679e85c-4c1d-4d2e-86a0-6eab1088940d",
   "metadata": {},
   "outputs": [
    {
     "data": {
      "image/png": "[encoded data removed]",
      "text/plain": [
       "<Figure size 1200x600 with 1 Axes>"
      ]
     },
     "metadata": {},
     "output_type": "display_data"
    }
   ],
   "source": [
    "make_graph(gme_data, gme_revenue, 'Histórico de precios de acciones de GameStop')"
   ]
  },
  {
   "cell_type": "code",
   "execution_count": null,
   "id": "43ad5c23-86d1-447c-b92e-e70562591dd9",
   "metadata": {},
   "outputs": [],
   "source": []
  },
  {
   "cell_type": "markdown",
   "id": "7fe0da33-06d6-4586-8af0-30cbe4759aaf",
   "metadata": {},
   "source": [
    "*Título del proyecto: Proyecto Coursera Análisis de Datos                                    \n",
    "Autor: Oscar León*"
   ]
  }
 ],
 "metadata": {
  "kernelspec": {
   "display_name": "Python [conda env:base] *",
   "language": "python",
   "name": "conda-base-py"
  },
  "language_info": {
   "codemirror_mode": {
    "name": "ipython",
    "version": 3
   },
   "file_extension": ".py",
   "mimetype": "text/x-python",
   "name": "python",
   "nbconvert_exporter": "python",
   "pygments_lexer": "ipython3",
   "version": "3.12.7"
  }
 },
 "nbformat": 4,
 "nbformat_minor": 5
}
